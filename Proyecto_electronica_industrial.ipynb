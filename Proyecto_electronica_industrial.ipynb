{
  "nbformat": 4,
  "nbformat_minor": 0,
  "metadata": {
    "colab": {
      "provenance": [],
      "include_colab_link": true
    },
    "kernelspec": {
      "name": "python3",
      "display_name": "Python 3"
    },
    "language_info": {
      "name": "python"
    }
  },
  "cells": [
    {
      "cell_type": "markdown",
      "metadata": {
        "id": "view-in-github",
        "colab_type": "text"
      },
      "source": [
        "<a href=\"https://colab.research.google.com/github/valentinabernal124/ELECTRONICA_INDUSTRIAL/blob/main/Proyecto_electronica_industrial.ipynb\" target=\"_parent\"><img src=\"https://colab.research.google.com/assets/colab-badge.svg\" alt=\"Open In Colab\"/></a>"
      ]
    },
    {
      "cell_type": "markdown",
      "source": [
        "# Codigo para calcular parametros de control ac de linea bidireccional\n",
        "- Juan Camilo Romero Gonzalez 2205606\n",
        "- Valentina Bernal Puentes 2205556"
      ],
      "metadata": {
        "id": "erWuVIQ-ZrlF"
      }
    },
    {
      "cell_type": "code",
      "execution_count": null,
      "metadata": {
        "id": "CDz24Cz5mgjx"
      },
      "outputs": [],
      "source": [
        "import numpy as np\n",
        "import matplotlib.pyplot as plt\n",
        "from scipy.integrate import quad"
      ]
    },
    {
      "cell_type": "code",
      "source": [
        "def biseccion(f,a,b,tol=1e-20,max_iter=2000):\n",
        "  if np.sign(f(a))==np.sign(f(b)):\n",
        "    raise Exception('El segmento a,b no contiene una raíz')\n",
        "  c=(a+b)/2 #Calcula el punto medio\n",
        "  n=0       #Inicializa el contador en 0\n",
        "  #Crear listas para guardar los resultados\n",
        "  list_a=[a]\n",
        "  list_b=[b]\n",
        "  list_c=[c]\n",
        "  while np.abs(f(c))>tol and n<max_iter :\n",
        "    if np.sign(f(a))==np.sign(f(c)):\n",
        "      a=c   #Caso donde c es una mejora de a\n",
        "    else :\n",
        "      b=c   #Caso donde c es una mejora de b\n",
        "    c=(a+b)/2\n",
        "    n+=1\n",
        "    # Se agregan elementos a las listas\n",
        "    list_a.append(a)\n",
        "    list_b.append(b)\n",
        "    list_c.append(c)\n",
        "  return list_a, list_b, list_c"
      ],
      "metadata": {
        "id": "R-swVeiqmjB-"
      },
      "execution_count": null,
      "outputs": []
    },
    {
      "cell_type": "code",
      "source": [
        "#valores de los parámetros\n",
        "vm=220\n",
        "R = 4\n",
        "L = 0.005\n",
        "f=60\n",
        "W =2*np.pi*f\n",
        "\n",
        "angulo=112\n",
        "Alpha =(angulo*np.pi)/180\n",
        "\n",
        "Theta=np.arctan((W*L)/(R))\n",
        "\n",
        "Z=np.sqrt((R**2)+((W*L)**2))\n",
        "\n",
        "\n",
        "f = lambda B : (np.sin(Alpha-Theta)*(np.exp((R/L)*((Alpha/W)-(B/W)))))-np.sin(B-Theta)\n",
        "a,b = (np.pi+0.0001),(2*np.pi)\n",
        "list_a, list_b, list_c = biseccion(f,a,b)\n",
        "Bet=list_c[-1]\n",
        "print('Resultado B=',Bet)"
      ],
      "metadata": {
        "colab": {
          "base_uri": "https://localhost:8080/"
        },
        "id": "Wy0MJ0Fb18AT",
        "outputId": "a3ac09d0-8825-4681-f4ba-2bfa101da8ea"
      },
      "execution_count": null,
      "outputs": [
        {
          "output_type": "stream",
          "name": "stdout",
          "text": [
            "Resultado B= 3.5479999469730013\n"
          ]
        }
      ]
    },
    {
      "cell_type": "code",
      "source": [
        "\n",
        "\n",
        "# función a integrar\n",
        "def integrand(t, Alpha, L, R, Theta):\n",
        "    return ((((np.sqrt(2)*vm)/Z)*((np.sin(W*t-Theta))-((np.sin(Alpha-Theta))*(np.exp((R/L)*((Alpha/W)-t))))))**2)\n",
        "\n",
        "#límites de integración\n",
        "lower_limit = Alpha\n",
        "upper_limit = Bet\n",
        "\n",
        "#integración numérica\n",
        "result, error = quad(integrand, lower_limit, upper_limit, args=(Alpha, L, R, Theta))\n",
        "# Imprimir el resultado\n",
        "U1=Alpha/377\n",
        "print(\"El punto de inicio del primer pulso para el triac U1 es \",U1)\n",
        "U2=(Alpha+np.pi)/377\n",
        "print(\"El punto de inicio del segundo pulso para el triac U1 es \",U2)\n",
        "print(\"El resultado de la integración de la corriente es:\", result)\n",
        "T1rms=np.sqrt((1/(1*np.pi))*(result))\n",
        "print(\"El resultado de la corriente eficaz para la resistencia es:\", T1rms)\n",
        "iorms=np.sqrt(2)*T1rms\n",
        "#print(\"El resultado de la corriente eficaz para la resistencia es:\", iorms)\n",
        "p=((T1rms*T1rms)*R)\n",
        "print(\"La potencia entregada a la carga es:\", p)\n",
        "print(\"Tiempo de separacion para enviar el segundo disparo de activacion del triac\",(U2-(U1+0.0005)))"
      ],
      "metadata": {
        "colab": {
          "base_uri": "https://localhost:8080/"
        },
        "id": "4JlamK8Xmlm2",
        "outputId": "0ca162ec-c9bb-4ae2-aaf7-3680d82a327c"
      },
      "execution_count": null,
      "outputs": [
        {
          "output_type": "stream",
          "name": "stdout",
          "text": [
            "El punto de inicio del primer pulso para el triac U1 es  0.005185063029797478\n",
            "El punto de inicio del segundo pulso para el triac U1 es  0.013518200041971995\n",
            "El resultado de la integración de la corriente es: 3909.4070356505695\n",
            "El resultado de la corriente eficaz para la resistencia es: 35.27609542684739\n",
            "La potencia entregada a la carga es: 4977.611634256174\n",
            "Tiempo de separacion para enviar el segundo disparo de activacion del triac 0.007833137012174517\n"
          ]
        },
        {
          "output_type": "stream",
          "name": "stderr",
          "text": [
            "<ipython-input-62-ce4a4dd88bb2>:10: IntegrationWarning: The maximum number of subdivisions (50) has been achieved.\n",
            "  If increasing the limit yields no improvement it is advised to analyze \n",
            "  the integrand in order to determine the difficulties.  If the position of a \n",
            "  local difficulty can be determined (singularity, discontinuity) one will \n",
            "  probably gain from splitting up the interval and calling the integrator \n",
            "  on the subranges.  Perhaps a special-purpose integrator should be used.\n",
            "  result, error = quad(integrand, lower_limit, upper_limit, args=(Alpha, L, R, Theta))\n"
          ]
        }
      ]
    }
  ]
}